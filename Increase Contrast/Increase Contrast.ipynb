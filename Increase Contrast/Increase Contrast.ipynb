{
 "cells": [
  {
   "cell_type": "code",
   "execution_count": null,
   "id": "135e99a1",
   "metadata": {},
   "outputs": [],
   "source": [
    "import cv2\n",
    "import numpy as np\n",
    "\n",
    "img = cv2.imread('flower.jpg', 1)\n",
    "# converting to LAB color space\n",
    "lab= cv2.cvtColor(img, cv2.COLOR_BGR2LAB)\n",
    "l_channel, a, b = cv2.split(lab)\n",
    "\n",
    "# Applying CLAHE to L-channel\n",
    "# feel free to try different values for the limit and grid size:\n",
    "clahe = cv2.createCLAHE(clipLimit=2.0, tileGridSize=(8,8))\n",
    "cl = clahe.apply(l_channel)\n",
    "\n",
    "# merge the CLAHE enhanced L-channel with the a and b channel\n",
    "limg = cv2.merge((cl,a,b))\n",
    "\n",
    "# Converting image from LAB Color model to BGR color spcae\n",
    "enhanced_img = cv2.cvtColor(limg, cv2.COLOR_LAB2BGR)\n",
    "\n",
    "# Stacking the original image with the enhanced image\n",
    "result = np.hstack((img, enhanced_img))\n",
    "cv2.imshow('Result', result)"
   ]
  }
 ],
 "metadata": {
  "kernelspec": {
   "display_name": "Python 3",
   "language": "python",
   "name": "python3"
  },
  "language_info": {
   "codemirror_mode": {
    "name": "ipython",
    "version": 3
   },
   "file_extension": ".py",
   "mimetype": "text/x-python",
   "name": "python",
   "nbconvert_exporter": "python",
   "pygments_lexer": "ipython3",
   "version": "3.8.8"
  }
 },
 "nbformat": 4,
 "nbformat_minor": 5
}
