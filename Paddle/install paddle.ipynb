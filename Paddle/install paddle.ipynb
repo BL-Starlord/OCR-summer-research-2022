{
 "cells": [
  {
   "cell_type": "code",
   "execution_count": 1,
   "id": "afd83e14",
   "metadata": {},
   "outputs": [],
   "source": [
    "import os\n",
    "from PIL import Image, ImageDraw, ImageFont\n",
    "from IPython.display import display"
   ]
  },
  {
   "cell_type": "code",
   "execution_count": 2,
   "id": "fc428944",
   "metadata": {},
   "outputs": [
    {
     "name": "stdout",
     "output_type": "stream",
     "text": [
      "\u001b[31mERROR: Could not find a version that satisfies the requirement paddlepaddle-gpu (from versions: none)\u001b[0m\n",
      "\u001b[31mERROR: No matching distribution found for paddlepaddle-gpu\u001b[0m\n",
      "Collecting paddleocr>=2.0.1\n",
      "  Downloading paddleocr-2.5.0.3-py3-none-any.whl (334 kB)\n",
      "\u001b[K     |████████████████████████████████| 334 kB 52 kB/s eta 0:00:011\n",
      "\u001b[?25hCollecting lxml\n",
      "  Downloading lxml-4.9.1-cp39-cp39-macosx_10_15_x86_64.whl (4.6 MB)\n",
      "\u001b[K     |████████████████████████████████| 4.6 MB 118 kB/s eta 0:00:01\n",
      "\u001b[?25hCollecting openpyxl\n",
      "  Downloading openpyxl-3.0.10-py2.py3-none-any.whl (242 kB)\n",
      "\u001b[K     |████████████████████████████████| 242 kB 12 kB/s eta 0:00:01\n",
      "\u001b[?25hCollecting pyclipper\n",
      "  Downloading pyclipper-1.3.0.post3-cp39-cp39-macosx_10_9_x86_64.whl (134 kB)\n",
      "\u001b[K     |████████████████████████████████| 134 kB 42 kB/s eta 0:00:01\n",
      "\u001b[?25hCollecting attrdict\n",
      "  Downloading attrdict-2.0.1-py2.py3-none-any.whl (9.9 kB)\n",
      "Collecting lmdb\n",
      "  Downloading lmdb-1.3.0-cp39-cp39-macosx_10_14_x86_64.whl (101 kB)\n",
      "\u001b[K     |████████████████████████████████| 101 kB 229 kB/s ta 0:00:01\n",
      "\u001b[?25hCollecting imgaug==0.4.0\n",
      "  Downloading imgaug-0.4.0-py2.py3-none-any.whl (948 kB)\n",
      "\u001b[K     |████████████████████████████████| 948 kB 92 kB/s eta 0:00:012\n",
      "\u001b[?25hCollecting opencv-contrib-python==4.4.0.46\n",
      "  Downloading opencv_contrib_python-4.4.0.46-cp39-cp39-macosx_10_13_x86_64.whl (64.1 MB)\n",
      "\u001b[K     |████████████████████████████████| 64.1 MB 147 kB/s eta 0:00:01\n",
      "\u001b[?25hCollecting visualdl\n",
      "  Downloading visualdl-2.3.0-py3-none-any.whl (2.8 MB)\n",
      "\u001b[K     |████████████████████████████████| 2.8 MB 59 kB/s eta 0:00:011\n",
      "\u001b[?25hCollecting shapely\n",
      "  Downloading Shapely-1.8.2-cp39-cp39-macosx_10_9_x86_64.whl (1.2 MB)\n",
      "\u001b[K     |████████████████████████████████| 1.2 MB 13 kB/s eta 0:00:012\n",
      "\u001b[?25hRequirement already satisfied: numpy in /Users/ryan/miniconda3/lib/python3.9/site-packages (from paddleocr>=2.0.1) (1.23.0)\n",
      "Requirement already satisfied: tqdm in /Users/ryan/miniconda3/lib/python3.9/site-packages (from paddleocr>=2.0.1) (4.63.0)\n",
      "Collecting premailer\n",
      "  Downloading premailer-3.10.0-py2.py3-none-any.whl (19 kB)\n",
      "Collecting scikit-image\n",
      "  Downloading scikit_image-0.19.3-cp39-cp39-macosx_10_13_x86_64.whl (13.3 MB)\n",
      "\u001b[K     |████████████████████████████████| 13.3 MB 147 kB/s eta 0:00:01    |████▋                           | 1.9 MB 42 kB/s eta 0:04:27\n",
      "\u001b[?25hCollecting python-Levenshtein\n",
      "  Downloading python-Levenshtein-0.12.2.tar.gz (50 kB)\n",
      "\u001b[K     |████████████████████████████████| 50 kB 157 kB/s eta 0:00:01\n",
      "\u001b[?25hCollecting cython\n",
      "  Downloading Cython-0.29.30-py2.py3-none-any.whl (985 kB)\n",
      "\u001b[K     |████████████████████████████████| 985 kB 29 kB/s eta 0:00:014\n",
      "\u001b[?25hCollecting matplotlib\n",
      "  Downloading matplotlib-3.5.2-cp39-cp39-macosx_10_9_x86_64.whl (7.3 MB)\n",
      "\u001b[K     |████████████████████████████████| 7.3 MB 60 kB/s eta 0:00:011\n",
      "\u001b[?25hCollecting opencv-python\n",
      "  Downloading opencv_python-4.6.0.66-cp36-abi3-macosx_10_15_x86_64.whl (46.4 MB)\n",
      "\u001b[K     |████████████████████████████████| 46.4 MB 166 kB/s eta 0:00:01\n",
      "\u001b[?25hCollecting imageio\n",
      "  Downloading imageio-2.19.3-py3-none-any.whl (3.4 MB)\n",
      "\u001b[K     |████████████████████████████████| 3.4 MB 90 kB/s eta 0:00:011\n",
      "\u001b[?25hCollecting Pillow\n",
      "  Downloading Pillow-9.2.0-cp39-cp39-macosx_10_10_x86_64.whl (3.1 MB)\n",
      "\u001b[K     |████████████████████████████████| 3.1 MB 34 kB/s eta 0:00:011\n",
      "\u001b[?25hRequirement already satisfied: six in /Users/ryan/miniconda3/lib/python3.9/site-packages (from imgaug==0.4.0->paddleocr>=2.0.1) (1.16.0)\n",
      "Requirement already satisfied: scipy in /Users/ryan/miniconda3/lib/python3.9/site-packages (from imgaug==0.4.0->paddleocr>=2.0.1) (1.8.1)\n",
      "Collecting networkx>=2.2\n",
      "  Downloading networkx-2.8.4-py3-none-any.whl (2.0 MB)\n",
      "\u001b[K     |████████████████████████████████| 2.0 MB 106 kB/s eta 0:00:01\n",
      "\u001b[?25hRequirement already satisfied: packaging>=20.0 in /Users/ryan/miniconda3/lib/python3.9/site-packages (from scikit-image->paddleocr>=2.0.1) (21.3)\n",
      "Collecting tifffile>=2019.7.26\n",
      "  Downloading tifffile-2022.5.4-py3-none-any.whl (195 kB)\n",
      "\u001b[K     |████████████████████████████████| 195 kB 113 kB/s eta 0:00:01\n",
      "\u001b[?25hCollecting PyWavelets>=1.1.1\n",
      "  Downloading PyWavelets-1.3.0-cp39-cp39-macosx_10_13_x86_64.whl (4.4 MB)\n",
      "\u001b[K     |████████████████████████████████| 4.4 MB 96 kB/s eta 0:00:015\n",
      "\u001b[?25hRequirement already satisfied: pyparsing!=3.0.5,>=2.0.2 in /Users/ryan/miniconda3/lib/python3.9/site-packages (from packaging>=20.0->scikit-image->paddleocr>=2.0.1) (3.0.9)\n",
      "Collecting fonttools>=4.22.0\n",
      "  Downloading fonttools-4.34.2-py3-none-any.whl (944 kB)\n",
      "\u001b[K     |████████████████████████████████| 944 kB 25 kB/s eta 0:00:012\n",
      "\u001b[?25hCollecting cycler>=0.10\n",
      "  Downloading cycler-0.11.0-py3-none-any.whl (6.4 kB)\n",
      "Collecting kiwisolver>=1.0.1\n",
      "  Downloading kiwisolver-1.4.3-cp39-cp39-macosx_10_9_x86_64.whl (65 kB)\n",
      "\u001b[K     |████████████████████████████████| 65 kB 88 kB/s eta 0:00:01\n",
      "\u001b[?25hCollecting python-dateutil>=2.7\n",
      "  Downloading python_dateutil-2.8.2-py2.py3-none-any.whl (247 kB)\n",
      "\u001b[K     |████████████████████████████████| 247 kB 81 kB/s eta 0:00:011\n",
      "\u001b[?25hCollecting et-xmlfile\n",
      "  Downloading et_xmlfile-1.1.0-py3-none-any.whl (4.7 kB)\n",
      "Requirement already satisfied: requests in /Users/ryan/miniconda3/lib/python3.9/site-packages (from premailer->paddleocr>=2.0.1) (2.27.1)\n",
      "Collecting cssutils\n",
      "  Downloading cssutils-2.4.2-py3-none-any.whl (404 kB)\n",
      "\u001b[K     |████████████████████████████████| 404 kB 88 kB/s eta 0:00:01\n",
      "\u001b[?25hCollecting cssselect\n",
      "  Downloading cssselect-1.1.0-py2.py3-none-any.whl (16 kB)\n",
      "Collecting cachetools\n",
      "  Using cached cachetools-5.2.0-py3-none-any.whl (9.3 kB)\n",
      "Requirement already satisfied: setuptools in /Users/ryan/miniconda3/lib/python3.9/site-packages (from python-Levenshtein->paddleocr>=2.0.1) (61.2.0)\n",
      "Requirement already satisfied: idna<4,>=2.5 in /Users/ryan/miniconda3/lib/python3.9/site-packages (from requests->premailer->paddleocr>=2.0.1) (3.3)\n",
      "Requirement already satisfied: certifi>=2017.4.17 in /Users/ryan/miniconda3/lib/python3.9/site-packages (from requests->premailer->paddleocr>=2.0.1) (2021.10.8)\n",
      "Requirement already satisfied: charset-normalizer~=2.0.0 in /Users/ryan/miniconda3/lib/python3.9/site-packages (from requests->premailer->paddleocr>=2.0.1) (2.0.4)\n",
      "Requirement already satisfied: urllib3<1.27,>=1.21.1 in /Users/ryan/miniconda3/lib/python3.9/site-packages (from requests->premailer->paddleocr>=2.0.1) (1.26.8)\n",
      "Collecting Flask-Babel>=1.0.0\n",
      "  Downloading Flask_Babel-2.0.0-py3-none-any.whl (9.3 kB)\n",
      "Collecting pandas\n",
      "  Downloading pandas-1.4.3-cp39-cp39-macosx_10_9_x86_64.whl (11.5 MB)\n",
      "\u001b[K     |████████████████████████████████| 11.5 MB 160 kB/s eta 0:00:01\n",
      "\u001b[?25hCollecting bce-python-sdk\n",
      "  Downloading bce_python_sdk-0.8.73-py3-none-any.whl (204 kB)\n",
      "\u001b[K     |████████████████████████████████| 204 kB 158 kB/s eta 0:00:01\n",
      "\u001b[?25hCollecting protobuf>=3.11.0\n",
      "  Downloading protobuf-4.21.2-cp37-abi3-macosx_10_9_universal2.whl (483 kB)\n",
      "\u001b[K     |████████████████████████████████| 483 kB 102 kB/s eta 0:00:01\n",
      "\u001b[?25hCollecting flask>=1.1.1\n",
      "  Downloading Flask-2.1.2-py3-none-any.whl (95 kB)\n",
      "\u001b[K     |████████████████████████████████| 95 kB 119 kB/s eta 0:00:01\n",
      "\u001b[?25hCollecting Jinja2>=3.0\n",
      "  Downloading Jinja2-3.1.2-py3-none-any.whl (133 kB)\n",
      "\u001b[K     |████████████████████████████████| 133 kB 26 kB/s eta 0:00:01\n",
      "\u001b[?25hCollecting importlib-metadata>=3.6.0\n",
      "  Downloading importlib_metadata-4.12.0-py3-none-any.whl (21 kB)\n",
      "Collecting click>=8.0\n",
      "  Downloading click-8.1.3-py3-none-any.whl (96 kB)\n",
      "\u001b[K     |████████████████████████████████| 96 kB 65 kB/s eta 0:00:011\n",
      "\u001b[?25hCollecting itsdangerous>=2.0\n",
      "  Downloading itsdangerous-2.1.2-py3-none-any.whl (15 kB)\n",
      "Collecting Werkzeug>=2.0\n",
      "  Using cached Werkzeug-2.1.2-py3-none-any.whl (224 kB)\n",
      "Collecting pytz\n",
      "  Downloading pytz-2022.1-py2.py3-none-any.whl (503 kB)\n",
      "\u001b[K     |████████████████████████████████| 503 kB 108 kB/s eta 0:00:01\n",
      "\u001b[?25hCollecting Babel>=2.3\n",
      "  Downloading Babel-2.10.3-py3-none-any.whl (9.5 MB)\n",
      "\u001b[K     |████████████████████████████████| 9.5 MB 6.9 kB/s eta 0:00:02\n",
      "\u001b[?25hCollecting zipp>=0.5\n",
      "  Using cached zipp-3.8.0-py3-none-any.whl (5.4 kB)\n",
      "Requirement already satisfied: MarkupSafe>=2.0 in /Users/ryan/miniconda3/lib/python3.9/site-packages (from Jinja2>=3.0->flask>=1.1.1->visualdl->paddleocr>=2.0.1) (2.1.1)\n",
      "Collecting future>=0.6.0\n"
     ]
    },
    {
     "name": "stdout",
     "output_type": "stream",
     "text": [
      "  Downloading future-0.18.2.tar.gz (829 kB)\n",
      "\u001b[K     |████████████████████████████████| 829 kB 38 kB/s eta 0:00:012\n",
      "\u001b[?25hCollecting pycryptodome>=3.8.0\n",
      "  Downloading pycryptodome-3.15.0-cp35-abi3-macosx_10_9_x86_64.whl (1.6 MB)\n",
      "\u001b[K     |████████████████████████████████| 1.6 MB 52 kB/s eta 0:00:012\n",
      "\u001b[?25hBuilding wheels for collected packages: python-Levenshtein, future\n",
      "  Building wheel for python-Levenshtein (setup.py) ... \u001b[?25ldone\n",
      "\u001b[?25h  Created wheel for python-Levenshtein: filename=python_Levenshtein-0.12.2-cp39-cp39-macosx_10_9_x86_64.whl size=78184 sha256=82aaebf93c62e7121fe50c16a6903d00d51de85a1c3957841e58b873dd6ca5bf\n",
      "  Stored in directory: /Users/ryan/Library/Caches/pip/wheels/46/4a/6c/164a1d9dd67c82d208f19d869ad0a517a0c5a6117f608c53e6\n",
      "  Building wheel for future (setup.py) ... \u001b[?25ldone\n",
      "\u001b[?25h  Created wheel for future: filename=future-0.18.2-py3-none-any.whl size=491070 sha256=2ec67d29903822c0b12459b37f7762a07e6ab006b9fbebd69d18c26fc75399e1\n",
      "  Stored in directory: /Users/ryan/Library/Caches/pip/wheels/2f/a0/d3/4030d9f80e6b3be787f19fc911b8e7aa462986a40ab1e4bb94\n",
      "Successfully built python-Levenshtein future\n",
      "Installing collected packages: zipp, Werkzeug, pytz, Pillow, Jinja2, itsdangerous, importlib-metadata, click, tifffile, PyWavelets, python-dateutil, pycryptodome, networkx, kiwisolver, imageio, future, fonttools, flask, cycler, Babel, shapely, scikit-image, protobuf, pandas, opencv-python, matplotlib, lxml, Flask-Babel, et-xmlfile, cssutils, cssselect, cachetools, bce-python-sdk, visualdl, python-Levenshtein, pyclipper, premailer, openpyxl, opencv-contrib-python, lmdb, imgaug, cython, attrdict, paddleocr\n",
      "Successfully installed Babel-2.10.3 Flask-Babel-2.0.0 Jinja2-3.1.2 Pillow-9.2.0 PyWavelets-1.3.0 Werkzeug-2.1.2 attrdict-2.0.1 bce-python-sdk-0.8.73 cachetools-5.2.0 click-8.1.3 cssselect-1.1.0 cssutils-2.4.2 cycler-0.11.0 cython-0.29.30 et-xmlfile-1.1.0 flask-2.1.2 fonttools-4.34.2 future-0.18.2 imageio-2.19.3 imgaug-0.4.0 importlib-metadata-4.12.0 itsdangerous-2.1.2 kiwisolver-1.4.3 lmdb-1.3.0 lxml-4.9.1 matplotlib-3.5.2 networkx-2.8.4 opencv-contrib-python-4.4.0.46 opencv-python-4.6.0.66 openpyxl-3.0.10 paddleocr-2.5.0.3 pandas-1.4.3 premailer-3.10.0 protobuf-4.21.2 pyclipper-1.3.0.post3 pycryptodome-3.15.0 python-Levenshtein-0.12.2 python-dateutil-2.8.2 pytz-2022.1 scikit-image-0.19.3 shapely-1.8.2 tifffile-2022.5.4 visualdl-2.3.0 zipp-3.8.0\n"
     ]
    }
   ],
   "source": [
    "!pip install paddlepaddle-gpu\n",
    "!pip install \"paddleocr>=2.0.1\""
   ]
  },
  {
   "cell_type": "code",
   "execution_count": 6,
   "id": "5d1dcbd8",
   "metadata": {},
   "outputs": [
    {
     "name": "stdout",
     "output_type": "stream",
     "text": [
      "Collecting paddleocr\n",
      "  Using cached paddleocr-2.5.0.3-py3-none-any.whl (334 kB)\n",
      "Collecting python-Levenshtein\n",
      "  Using cached python-Levenshtein-0.12.2.tar.gz (50 kB)\n",
      "  Preparing metadata (setup.py) ... \u001b[?25ldone\n",
      "\u001b[?25hRequirement already satisfied: tqdm in /Users/ryan/opt/anaconda3/lib/python3.8/site-packages (from paddleocr) (4.59.0)\n",
      "Collecting lmdb\n",
      "  Downloading lmdb-1.3.0-cp38-cp38-macosx_10_14_x86_64.whl (101 kB)\n",
      "\u001b[2K     \u001b[90m━━━━━━━━━━━━━━━━━━━━━━━━━━━━━━━━━━━━━\u001b[0m \u001b[32m101.7/101.7 kB\u001b[0m \u001b[31m376.9 kB/s\u001b[0m eta \u001b[36m0:00:00\u001b[0ma \u001b[36m0:00:01\u001b[0m\n",
      "\u001b[?25hCollecting imgaug==0.4.0\n",
      "  Using cached imgaug-0.4.0-py2.py3-none-any.whl (948 kB)\n",
      "Collecting pyclipper\n",
      "  Downloading pyclipper-1.3.0.post3-cp38-cp38-macosx_10_9_x86_64.whl (133 kB)\n",
      "\u001b[2K     \u001b[90m━━━━━━━━━━━━━━━━━━━━━━━━━━━━━━━━━━━━━\u001b[0m \u001b[32m133.9/133.9 kB\u001b[0m \u001b[31m431.9 kB/s\u001b[0m eta \u001b[36m0:00:00\u001b[0ma \u001b[36m0:00:01\u001b[0m\n",
      "\u001b[?25hRequirement already satisfied: openpyxl in /Users/ryan/opt/anaconda3/lib/python3.8/site-packages (from paddleocr) (3.0.7)\n",
      "Collecting attrdict\n",
      "  Using cached attrdict-2.0.1-py2.py3-none-any.whl (9.9 kB)\n",
      "Requirement already satisfied: scikit-image in /Users/ryan/opt/anaconda3/lib/python3.8/site-packages (from paddleocr) (0.18.1)\n",
      "Collecting opencv-contrib-python==4.4.0.46\n",
      "  Downloading opencv_contrib_python-4.4.0.46-cp38-cp38-macosx_10_13_x86_64.whl (64.1 MB)\n",
      "\u001b[2K     \u001b[90m━━━━━━━━━━━━━━━━━━━━━━━━━━━━━━━━━━━━━━━━\u001b[0m \u001b[32m64.1/64.1 MB\u001b[0m \u001b[31m98.6 kB/s\u001b[0m eta \u001b[36m0:00:00\u001b[0m00:01\u001b[0m00:18\u001b[0m\n",
      "\u001b[?25hCollecting shapely\n",
      "  Downloading Shapely-1.8.2-cp38-cp38-macosx_10_9_x86_64.whl (1.2 MB)\n",
      "\u001b[2K     \u001b[90m━━━━━━━━━━━━━━━━━━━━━━━━━━━━━━━━━━━━━━━━\u001b[0m \u001b[32m1.2/1.2 MB\u001b[0m \u001b[31m160.3 kB/s\u001b[0m eta \u001b[36m0:00:00\u001b[0m00:01\u001b[0m00:01\u001b[0m\n",
      "\u001b[?25hCollecting premailer\n",
      "  Using cached premailer-3.10.0-py2.py3-none-any.whl (19 kB)\n",
      "Requirement already satisfied: numpy in /Users/ryan/opt/anaconda3/lib/python3.8/site-packages (from paddleocr) (1.20.1)\n",
      "Collecting visualdl\n",
      "  Using cached visualdl-2.3.0-py3-none-any.whl (2.8 MB)\n",
      "Requirement already satisfied: lxml in /Users/ryan/opt/anaconda3/lib/python3.8/site-packages (from paddleocr) (4.6.3)\n",
      "Requirement already satisfied: cython in /Users/ryan/opt/anaconda3/lib/python3.8/site-packages (from paddleocr) (0.29.23)\n",
      "Requirement already satisfied: matplotlib in /Users/ryan/opt/anaconda3/lib/python3.8/site-packages (from imgaug==0.4.0->paddleocr) (3.3.4)\n",
      "Requirement already satisfied: six in /Users/ryan/opt/anaconda3/lib/python3.8/site-packages (from imgaug==0.4.0->paddleocr) (1.15.0)\n",
      "Requirement already satisfied: Pillow in /Users/ryan/opt/anaconda3/lib/python3.8/site-packages (from imgaug==0.4.0->paddleocr) (8.2.0)\n",
      "Requirement already satisfied: imageio in /Users/ryan/opt/anaconda3/lib/python3.8/site-packages (from imgaug==0.4.0->paddleocr) (2.9.0)\n",
      "Requirement already satisfied: scipy in /Users/ryan/opt/anaconda3/lib/python3.8/site-packages (from imgaug==0.4.0->paddleocr) (1.6.2)\n",
      "Requirement already satisfied: opencv-python in /Users/ryan/opt/anaconda3/lib/python3.8/site-packages (from imgaug==0.4.0->paddleocr) (4.5.5.64)\n",
      "Requirement already satisfied: networkx>=2.0 in /Users/ryan/opt/anaconda3/lib/python3.8/site-packages (from scikit-image->paddleocr) (2.5)\n",
      "Requirement already satisfied: tifffile>=2019.7.26 in /Users/ryan/opt/anaconda3/lib/python3.8/site-packages (from scikit-image->paddleocr) (2020.10.1)\n",
      "Requirement already satisfied: PyWavelets>=1.1.1 in /Users/ryan/opt/anaconda3/lib/python3.8/site-packages (from scikit-image->paddleocr) (1.1.1)\n",
      "Requirement already satisfied: et-xmlfile in /Users/ryan/opt/anaconda3/lib/python3.8/site-packages (from openpyxl->paddleocr) (1.0.1)\n",
      "Requirement already satisfied: requests in /Users/ryan/opt/anaconda3/lib/python3.8/site-packages (from premailer->paddleocr) (2.25.1)\n",
      "Requirement already satisfied: cachetools in /Users/ryan/opt/anaconda3/lib/python3.8/site-packages (from premailer->paddleocr) (5.2.0)\n",
      "Collecting cssutils\n",
      "  Using cached cssutils-2.4.2-py3-none-any.whl (404 kB)\n",
      "Collecting cssselect\n",
      "  Using cached cssselect-1.1.0-py2.py3-none-any.whl (16 kB)\n",
      "Requirement already satisfied: setuptools in /Users/ryan/opt/anaconda3/lib/python3.8/site-packages (from python-Levenshtein->paddleocr) (52.0.0.post20210125)\n",
      "Collecting Flask-Babel>=1.0.0\n",
      "  Using cached Flask_Babel-2.0.0-py3-none-any.whl (9.3 kB)\n",
      "Requirement already satisfied: flask>=1.1.1 in /Users/ryan/opt/anaconda3/lib/python3.8/site-packages (from visualdl->paddleocr) (1.1.2)\n",
      "Requirement already satisfied: protobuf>=3.11.0 in /Users/ryan/opt/anaconda3/lib/python3.8/site-packages (from visualdl->paddleocr) (3.19.4)\n",
      "Collecting bce-python-sdk\n",
      "  Using cached bce_python_sdk-0.8.73-py3-none-any.whl (204 kB)\n",
      "Requirement already satisfied: pandas in /Users/ryan/opt/anaconda3/lib/python3.8/site-packages (from visualdl->paddleocr) (1.2.4)\n",
      "Requirement already satisfied: click>=5.1 in /Users/ryan/opt/anaconda3/lib/python3.8/site-packages (from flask>=1.1.1->visualdl->paddleocr) (7.1.2)\n",
      "Requirement already satisfied: Werkzeug>=0.15 in /Users/ryan/opt/anaconda3/lib/python3.8/site-packages (from flask>=1.1.1->visualdl->paddleocr) (1.0.1)\n",
      "Requirement already satisfied: itsdangerous>=0.24 in /Users/ryan/opt/anaconda3/lib/python3.8/site-packages (from flask>=1.1.1->visualdl->paddleocr) (1.1.0)\n",
      "Requirement already satisfied: Jinja2>=2.10.1 in /Users/ryan/opt/anaconda3/lib/python3.8/site-packages (from flask>=1.1.1->visualdl->paddleocr) (2.11.3)\n",
      "Requirement already satisfied: Babel>=2.3 in /Users/ryan/opt/anaconda3/lib/python3.8/site-packages (from Flask-Babel>=1.0.0->visualdl->paddleocr) (2.9.0)\n",
      "Requirement already satisfied: pytz in /Users/ryan/opt/anaconda3/lib/python3.8/site-packages (from Flask-Babel>=1.0.0->visualdl->paddleocr) (2021.1)\n",
      "Requirement already satisfied: cycler>=0.10 in /Users/ryan/opt/anaconda3/lib/python3.8/site-packages (from matplotlib->imgaug==0.4.0->paddleocr) (0.10.0)\n",
      "Requirement already satisfied: pyparsing!=2.0.4,!=2.1.2,!=2.1.6,>=2.0.3 in /Users/ryan/opt/anaconda3/lib/python3.8/site-packages (from matplotlib->imgaug==0.4.0->paddleocr) (2.4.7)\n",
      "Requirement already satisfied: python-dateutil>=2.1 in /Users/ryan/opt/anaconda3/lib/python3.8/site-packages (from matplotlib->imgaug==0.4.0->paddleocr) (2.8.1)\n",
      "Requirement already satisfied: kiwisolver>=1.0.1 in /Users/ryan/opt/anaconda3/lib/python3.8/site-packages (from matplotlib->imgaug==0.4.0->paddleocr) (1.3.1)\n",
      "Requirement already satisfied: decorator>=4.3.0 in /Users/ryan/opt/anaconda3/lib/python3.8/site-packages (from networkx>=2.0->scikit-image->paddleocr) (5.0.6)\n",
      "Requirement already satisfied: future>=0.6.0 in /Users/ryan/opt/anaconda3/lib/python3.8/site-packages (from bce-python-sdk->visualdl->paddleocr) (0.18.2)\n",
      "Collecting pycryptodome>=3.8.0\n",
      "  Using cached pycryptodome-3.15.0-cp35-abi3-macosx_10_9_x86_64.whl (1.6 MB)\n",
      "Requirement already satisfied: urllib3<1.27,>=1.21.1 in /Users/ryan/opt/anaconda3/lib/python3.8/site-packages (from requests->premailer->paddleocr) (1.26.4)\n",
      "Requirement already satisfied: idna<3,>=2.5 in /Users/ryan/opt/anaconda3/lib/python3.8/site-packages (from requests->premailer->paddleocr) (2.10)\n",
      "Requirement already satisfied: certifi>=2017.4.17 in /Users/ryan/opt/anaconda3/lib/python3.8/site-packages (from requests->premailer->paddleocr) (2020.12.5)\n",
      "Requirement already satisfied: chardet<5,>=3.0.2 in /Users/ryan/opt/anaconda3/lib/python3.8/site-packages (from requests->premailer->paddleocr) (4.0.0)\n",
      "Requirement already satisfied: MarkupSafe>=0.23 in /Users/ryan/opt/anaconda3/lib/python3.8/site-packages (from Jinja2>=2.10.1->flask>=1.1.1->visualdl->paddleocr) (1.1.1)\n",
      "Building wheels for collected packages: python-Levenshtein\n",
      "  Building wheel for python-Levenshtein (setup.py) ... \u001b[?25ldone\n",
      "\u001b[?25h  Created wheel for python-Levenshtein: filename=python_Levenshtein-0.12.2-cp38-cp38-macosx_10_9_x86_64.whl size=80936 sha256=26db0ca972a8d05eae652f77abb8e11ffec3bcdaa5806934474b919b4d7cc673\n",
      "  Stored in directory: /Users/ryan/Library/Caches/pip/wheels/d7/0c/76/042b46eb0df65c3ccd0338f791210c55ab79d209bcc269e2c7\n",
      "Successfully built python-Levenshtein\n",
      "Installing collected packages: pyclipper, lmdb, shapely, python-Levenshtein, pycryptodome, opencv-contrib-python, cssutils, cssselect, attrdict, premailer, bce-python-sdk, Flask-Babel, visualdl, imgaug, paddleocr\n"
     ]
    },
    {
     "name": "stdout",
     "output_type": "stream",
     "text": [
      "Successfully installed Flask-Babel-2.0.0 attrdict-2.0.1 bce-python-sdk-0.8.73 cssselect-1.1.0 cssutils-2.4.2 imgaug-0.4.0 lmdb-1.3.0 opencv-contrib-python-4.4.0.46 paddleocr-2.5.0.3 premailer-3.10.0 pyclipper-1.3.0.post3 pycryptodome-3.15.0 python-Levenshtein-0.12.2 shapely-1.8.2 visualdl-2.3.0\n",
      "Note: you may need to restart the kernel to use updated packages.\n"
     ]
    }
   ],
   "source": [
    "pip install paddleocr"
   ]
  },
  {
   "cell_type": "code",
   "execution_count": 9,
   "id": "8fcb394b",
   "metadata": {},
   "outputs": [
    {
     "name": "stdout",
     "output_type": "stream",
     "text": [
      "Collecting paddlepaddle\n",
      "  Downloading paddlepaddle-2.3.1-cp38-cp38-macosx_10_14_x86_64.whl (92.9 MB)\n",
      "\u001b[2K     \u001b[90m━━━━━━━━━━━━━━━━━━━━━━━━━━━━━━━━━━━━━━━\u001b[0m \u001b[32m92.9/92.9 MB\u001b[0m \u001b[31m200.2 kB/s\u001b[0m eta \u001b[36m0:00:00\u001b[0m00:01\u001b[0m00:13\u001b[0m\n",
      "\u001b[?25hRequirement already satisfied: Pillow in /Users/ryan/opt/anaconda3/lib/python3.8/site-packages (from paddlepaddle) (8.2.0)\n",
      "Requirement already satisfied: decorator in /Users/ryan/opt/anaconda3/lib/python3.8/site-packages (from paddlepaddle) (5.0.6)\n",
      "Requirement already satisfied: requests>=2.20.0 in /Users/ryan/opt/anaconda3/lib/python3.8/site-packages (from paddlepaddle) (2.25.1)\n",
      "\u001b[33mWARNING: Retrying (Retry(total=4, connect=None, read=None, redirect=None, status=None)) after connection broken by 'ReadTimeoutError(\"HTTPSConnectionPool(host='pypi.org', port=443): Read timed out. (read timeout=15)\")': /simple/paddle-bfloat/\u001b[0m\u001b[33m\n",
      "\u001b[0mCollecting paddle-bfloat==0.1.7\n",
      "  Downloading paddle_bfloat-0.1.7-cp38-cp38-macosx_10_9_x86_64.whl (46 kB)\n",
      "\u001b[2K     \u001b[90m━━━━━━━━━━━━━━━━━━━━━━━━━━━━━━━━━━━━━━━\u001b[0m \u001b[32m46.3/46.3 kB\u001b[0m \u001b[31m332.1 kB/s\u001b[0m eta \u001b[36m0:00:00\u001b[0ma \u001b[36m0:00:01\u001b[0m\n",
      "\u001b[?25hRequirement already satisfied: numpy>=1.13 in /Users/ryan/opt/anaconda3/lib/python3.8/site-packages (from paddlepaddle) (1.20.1)\n",
      "Requirement already satisfied: opt-einsum==3.3.0 in /Users/ryan/opt/anaconda3/lib/python3.8/site-packages (from paddlepaddle) (3.3.0)\n",
      "Collecting astor\n",
      "  Downloading astor-0.8.1-py2.py3-none-any.whl (27 kB)\n",
      "Requirement already satisfied: protobuf<=3.20.0,>=3.1.0 in /Users/ryan/opt/anaconda3/lib/python3.8/site-packages (from paddlepaddle) (3.19.4)\n",
      "Requirement already satisfied: six in /Users/ryan/opt/anaconda3/lib/python3.8/site-packages (from paddlepaddle) (1.15.0)\n",
      "Requirement already satisfied: urllib3<1.27,>=1.21.1 in /Users/ryan/opt/anaconda3/lib/python3.8/site-packages (from requests>=2.20.0->paddlepaddle) (1.26.4)\n",
      "Requirement already satisfied: idna<3,>=2.5 in /Users/ryan/opt/anaconda3/lib/python3.8/site-packages (from requests>=2.20.0->paddlepaddle) (2.10)\n",
      "Requirement already satisfied: chardet<5,>=3.0.2 in /Users/ryan/opt/anaconda3/lib/python3.8/site-packages (from requests>=2.20.0->paddlepaddle) (4.0.0)\n",
      "Requirement already satisfied: certifi>=2017.4.17 in /Users/ryan/opt/anaconda3/lib/python3.8/site-packages (from requests>=2.20.0->paddlepaddle) (2020.12.5)\n",
      "Installing collected packages: paddle-bfloat, astor, paddlepaddle\n",
      "Successfully installed astor-0.8.1 paddle-bfloat-0.1.7 paddlepaddle-2.3.1\n",
      "Note: you may need to restart the kernel to use updated packages.\n"
     ]
    }
   ],
   "source": [
    "pip install paddlepaddle"
   ]
  },
  {
   "cell_type": "code",
   "execution_count": 10,
   "id": "072a3f72",
   "metadata": {},
   "outputs": [],
   "source": [
    "from paddleocr import PaddleOCR, draw_ocr"
   ]
  },
  {
   "cell_type": "code",
   "execution_count": 13,
   "id": "14825d6b",
   "metadata": {
    "scrolled": true
   },
   "outputs": [
    {
     "name": "stdout",
     "output_type": "stream",
     "text": [
      "[2022/07/08 13:50:55] ppocr DEBUG: Namespace(alpha=1.0, benchmark=False, beta=1.0, cls_batch_num=6, cls_image_shape='3, 48, 192', cls_model_dir='/Users/ryan/.paddleocr/whl/cls/ch_ppocr_mobile_v2.0_cls_infer', cls_thresh=0.9, cpu_threads=10, crop_res_save_dir='./output', det=True, det_algorithm='DB', det_db_box_thresh=0.6, det_db_score_mode='fast', det_db_thresh=0.3, det_db_unclip_ratio=1.5, det_east_cover_thresh=0.1, det_east_nms_thresh=0.2, det_east_score_thresh=0.8, det_fce_box_type='poly', det_limit_side_len=960, det_limit_type='max', det_model_dir='/Users/ryan/.paddleocr/whl/det/ch/ch_PP-OCRv3_det_infer', det_pse_box_thresh=0.85, det_pse_box_type='quad', det_pse_min_area=16, det_pse_scale=1, det_pse_thresh=0, det_sast_nms_thresh=0.2, det_sast_polygon=False, det_sast_score_thresh=0.5, draw_img_save_dir='./inference_results', drop_score=0.5, e2e_algorithm='PGNet', e2e_char_dict_path='./ppocr/utils/ic15_dict.txt', e2e_limit_side_len=768, e2e_limit_type='max', e2e_model_dir=None, e2e_pgnet_mode='fast', e2e_pgnet_score_thresh=0.5, e2e_pgnet_valid_set='totaltext', enable_mkldnn=False, fourier_degree=5, gpu_mem=500, help='==SUPPRESS==', image_dir=None, ir_optim=True, label_list=['0', '180'], lang='ch', layout=True, layout_label_map=None, layout_path_model='lp://PubLayNet/ppyolov2_r50vd_dcn_365e_publaynet/config', max_batch_size=10, max_text_length=25, min_subgraph_size=15, mode='structure', ocr=True, ocr_version='PP-OCRv3', output='./output', precision='fp32', process_id=0, rec=True, rec_algorithm='SVTR_LCNet', rec_batch_num=6, rec_char_dict_path='/Users/ryan/opt/anaconda3/lib/python3.8/site-packages/paddleocr/ppocr/utils/ppocr_keys_v1.txt', rec_image_shape='3, 48, 320', rec_model_dir='/Users/ryan/.paddleocr/whl/rec/ch/ch_PP-OCRv3_rec_infer', save_crop_res=False, save_log_path='./log_output/', scales=[8, 16, 32], show_log=True, structure_version='PP-STRUCTURE', table=True, table_char_dict_path=None, table_max_len=488, table_model_dir=None, total_process_num=1, type='ocr', use_angle_cls=True, use_dilation=False, use_gpu=False, use_mp=False, use_onnx=False, use_pdserving=False, use_space_char=True, use_tensorrt=False, vis_font_path='./doc/fonts/simfang.ttf', warmup=False)\n",
      "('第1页/共12页', 0.8649317026138306)\n"
     ]
    }
   ],
   "source": [
    "img_path = '/Users/ryan/OneDrive - The University of Nottingham Ningbo China/Y2/OCR Summer research/Python_Algorithm/Area_Detection/contours.png'\n",
    "\n",
    "def my_ocr(img_path):\n",
    "    ocr = PaddleOCR(use_angle_cls=True, lang='ch') # need to run only once to download and load model into memory\n",
    "    result = ocr.ocr(img_path, det=False)\n",
    "    \n",
    "    for line in result:\n",
    "        print(line)\n",
    "        \n",
    "    return result\n",
    "\n",
    "\n",
    "if __name__ == '__main__':\n",
    "    my_ocr(img_path)\n",
    "    pass"
   ]
  },
  {
   "cell_type": "code",
   "execution_count": 14,
   "id": "150007ea",
   "metadata": {},
   "outputs": [
    {
     "name": "stdout",
     "output_type": "stream",
     "text": [
      "[2022/07/08 14:36:22] ppocr DEBUG: Namespace(alpha=1.0, benchmark=False, beta=1.0, cls_batch_num=6, cls_image_shape='3, 48, 192', cls_model_dir='/Users/ryan/.paddleocr/whl/cls/ch_ppocr_mobile_v2.0_cls_infer', cls_thresh=0.9, cpu_threads=10, crop_res_save_dir='./output', det=True, det_algorithm='DB', det_db_box_thresh=0.6, det_db_score_mode='fast', det_db_thresh=0.3, det_db_unclip_ratio=1.5, det_east_cover_thresh=0.1, det_east_nms_thresh=0.2, det_east_score_thresh=0.8, det_fce_box_type='poly', det_limit_side_len=960, det_limit_type='max', det_model_dir='/Users/ryan/.paddleocr/whl/det/ch/ch_PP-OCRv3_det_infer', det_pse_box_thresh=0.85, det_pse_box_type='quad', det_pse_min_area=16, det_pse_scale=1, det_pse_thresh=0, det_sast_nms_thresh=0.2, det_sast_polygon=False, det_sast_score_thresh=0.5, draw_img_save_dir='./inference_results', drop_score=0.5, e2e_algorithm='PGNet', e2e_char_dict_path='./ppocr/utils/ic15_dict.txt', e2e_limit_side_len=768, e2e_limit_type='max', e2e_model_dir=None, e2e_pgnet_mode='fast', e2e_pgnet_score_thresh=0.5, e2e_pgnet_valid_set='totaltext', enable_mkldnn=False, fourier_degree=5, gpu_mem=500, help='==SUPPRESS==', image_dir=None, ir_optim=True, label_list=['0', '180'], lang='ch', layout=True, layout_label_map=None, layout_path_model='lp://PubLayNet/ppyolov2_r50vd_dcn_365e_publaynet/config', max_batch_size=10, max_text_length=25, min_subgraph_size=15, mode='structure', ocr=True, ocr_version='PP-OCRv3', output='./output', precision='fp32', process_id=0, rec=True, rec_algorithm='SVTR_LCNet', rec_batch_num=6, rec_char_dict_path='/Users/ryan/opt/anaconda3/lib/python3.8/site-packages/paddleocr/ppocr/utils/ppocr_keys_v1.txt', rec_image_shape='3, 48, 320', rec_model_dir='/Users/ryan/.paddleocr/whl/rec/ch/ch_PP-OCRv3_rec_infer', save_crop_res=False, save_log_path='./log_output/', scales=[8, 16, 32], show_log=True, structure_version='PP-STRUCTURE', table=True, table_char_dict_path=None, table_max_len=488, table_model_dir=None, total_process_num=1, type='ocr', use_angle_cls=True, use_dilation=False, use_gpu=False, use_mp=False, use_onnx=False, use_pdserving=False, use_space_char=True, use_tensorrt=False, vis_font_path='./doc/fonts/simfang.ttf', warmup=False)\n",
      "('第1页/共12页', 0.8649317026138306)\n"
     ]
    }
   ],
   "source": [
    "result = my_ocr(img_path)"
   ]
  },
  {
   "cell_type": "code",
   "execution_count": 17,
   "id": "e9df50ba",
   "metadata": {},
   "outputs": [
    {
     "data": {
      "text/plain": [
       "'第1页/共12页'"
      ]
     },
     "execution_count": 17,
     "metadata": {},
     "output_type": "execute_result"
    }
   ],
   "source": [
    "result[0][0]"
   ]
  },
  {
   "cell_type": "code",
   "execution_count": null,
   "id": "4b47f3a1",
   "metadata": {},
   "outputs": [],
   "source": []
  }
 ],
 "metadata": {
  "kernelspec": {
   "display_name": "Python 3",
   "language": "python",
   "name": "python3"
  },
  "language_info": {
   "codemirror_mode": {
    "name": "ipython",
    "version": 3
   },
   "file_extension": ".py",
   "mimetype": "text/x-python",
   "name": "python",
   "nbconvert_exporter": "python",
   "pygments_lexer": "ipython3",
   "version": "3.8.8"
  }
 },
 "nbformat": 4,
 "nbformat_minor": 5
}
