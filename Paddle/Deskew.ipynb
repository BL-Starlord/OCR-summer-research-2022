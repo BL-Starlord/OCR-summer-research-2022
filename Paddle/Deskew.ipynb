{
 "cells": [
  {
   "cell_type": "code",
   "execution_count": 1,
   "id": "13b379a6",
   "metadata": {},
   "outputs": [],
   "source": [
    "# Calculate skew angle of an image\n",
    "def getSkewAngle(cvImage) -> float:\n",
    "    # Prep image, copy, convert to gray scale, blur, and threshold\n",
    "    newImage = cvImage.copy()\n",
    "    gray = cv2.cvtColor(newImage, cv2.COLOR_BGR2GRAY)\n",
    "    blur = cv2.GaussianBlur(gray, (9, 9), 0)\n",
    "    thresh = cv2.threshold(blur, 0, 255, cv2.THRESH_BINARY_INV + cv2.THRESH_OTSU)[1]\n",
    "\n",
    "    # Apply dilate to merge text into meaningful lines/paragraphs.\n",
    "    # Use larger kernel on X axis to merge characters into single line, cancelling out any spaces.\n",
    "    # But use smaller kernel on Y axis to separate between different blocks of text\n",
    "    kernel = cv2.getStructuringElement(cv2.MORPH_RECT, (30, 5))\n",
    "    dilate = cv2.dilate(thresh, kernel, iterations=5)\n",
    "\n",
    "    # Find all contours\n",
    "    contours, hierarchy = cv2.findContours(dilate, cv2.RETR_LIST, cv2.CHAIN_APPROX_SIMPLE)\n",
    "    contours = sorted(contours, key = cv2.contourArea, reverse = True)\n",
    "\n",
    "    # Find largest contour and surround in min area box\n",
    "    largestContour = contours[0]\n",
    "    minAreaRect = cv2.minAreaRect(largestContour)\n",
    "\n",
    "    # Determine the angle. Convert it to the value that was originally used to obtain skewed image\n",
    "    angle = minAreaRect[-1]\n",
    "    if angle < -45:\n",
    "        angle = 90 + angle\n",
    "    return -1.0 * angle"
   ]
  },
  {
   "cell_type": "code",
   "execution_count": 2,
   "id": "1d0e1375",
   "metadata": {},
   "outputs": [],
   "source": [
    "# Rotate the image around its center\n",
    "def rotateImage(cvImage, angle: float):\n",
    "    newImage = cvImage.copy()\n",
    "    (h, w) = newImage.shape[:2]\n",
    "    center = (w // 2, h // 2)\n",
    "    M = cv2.getRotationMatrix2D(center, angle, 1.0)\n",
    "    newImage = cv2.warpAffine(newImage, M, (w, h), flags=cv2.INTER_CUBIC, borderMode=cv2.BORDER_REPLICATE)\n",
    "    return newImage\n",
    "\n",
    "# Deskew image\n",
    "def deskew(cvImage):\n",
    "    angle = getSkewAngle(cvImage)\n",
    "    return rotateImage(cvImage, -1.0 * angle)"
   ]
  },
  {
   "cell_type": "code",
   "execution_count": 3,
   "id": "7c790a65",
   "metadata": {},
   "outputs": [],
   "source": [
    "import cv2"
   ]
  },
  {
   "cell_type": "code",
   "execution_count": 4,
   "id": "b16bdff0",
   "metadata": {},
   "outputs": [],
   "source": [
    "img = cv2.imread('/Users/ryan/OneDrive - The University of Nottingham Ningbo China/Y2/OCR Summer research/Python_Algorithm/OCR Dataset/IMG_0834.JPG')"
   ]
  },
  {
   "cell_type": "code",
   "execution_count": 5,
   "id": "214ec77b",
   "metadata": {},
   "outputs": [],
   "source": [
    "result = deskew(img)"
   ]
  },
  {
   "cell_type": "code",
   "execution_count": 6,
   "id": "f9e27696",
   "metadata": {},
   "outputs": [
    {
     "data": {
      "text/plain": [
       "True"
      ]
     },
     "execution_count": 6,
     "metadata": {},
     "output_type": "execute_result"
    }
   ],
   "source": [
    "cv2.imwrite('deskewed.png', result)"
   ]
  },
  {
   "cell_type": "code",
   "execution_count": 18,
   "id": "890d342e",
   "metadata": {},
   "outputs": [
    {
     "ename": "ModuleNotFoundError",
     "evalue": "No module named 'services'",
     "output_type": "error",
     "traceback": [
      "\u001b[0;31m---------------------------------------------------------------------------\u001b[0m",
      "\u001b[0;31mModuleNotFoundError\u001b[0m                       Traceback (most recent call last)",
      "\u001b[0;32m<ipython-input-18-af2dc3a2f753>\u001b[0m in \u001b[0;36m<module>\u001b[0;34m\u001b[0m\n\u001b[1;32m      2\u001b[0m \u001b[0;32mimport\u001b[0m \u001b[0mcv2\u001b[0m\u001b[0;34m\u001b[0m\u001b[0;34m\u001b[0m\u001b[0m\n\u001b[1;32m      3\u001b[0m \u001b[0;32mimport\u001b[0m \u001b[0mnumpy\u001b[0m\u001b[0;34m\u001b[0m\u001b[0;34m\u001b[0m\u001b[0m\n\u001b[0;32m----> 4\u001b[0;31m \u001b[0;32mfrom\u001b[0m \u001b[0mservices\u001b[0m\u001b[0;34m.\u001b[0m\u001b[0mgraphics_service\u001b[0m \u001b[0;32mimport\u001b[0m \u001b[0mGraphicsService\u001b[0m\u001b[0;34m\u001b[0m\u001b[0;34m\u001b[0m\u001b[0m\n\u001b[0m\u001b[1;32m      5\u001b[0m \u001b[0;34m\u001b[0m\u001b[0m\n\u001b[1;32m      6\u001b[0m \u001b[0;31m# This service contains core methods needed to deskew images\u001b[0m\u001b[0;34m\u001b[0m\u001b[0;34m\u001b[0m\u001b[0;34m\u001b[0m\u001b[0m\n",
      "\u001b[0;31mModuleNotFoundError\u001b[0m: No module named 'services'"
     ]
    }
   ],
   "source": [
    "from typing import Tuple\n",
    "import cv2\n",
    "import numpy\n",
    "from services.graphics_service import GraphicsService\n",
    "\n",
    "# This service contains core methods needed to deskew images\n",
    "class DeskewService():\n",
    "    # Calculate skew angle of an image\n",
    "    def getSkewAngle(self, cvImage, debug: bool = False) -> float:\n",
    "        # Prep image, copy, convert to gray scale, blur, and threshold\n",
    "        newImage = cvImage.copy()\n",
    "        gray = GraphicsService().cvToGrayScale(newImage)\n",
    "        blur = GraphicsService().cvApplyGaussianBlur(gray, 9)\n",
    "        thresh = cv2.threshold(blur, 0, 255, cv2.THRESH_BINARY_INV + cv2.THRESH_OTSU)[1]\n",
    "        if debug:\n",
    "            cv2.imshow('Gray', gray)\n",
    "            cv2.imshow('Blur', blur)\n",
    "            cv2.imshow('Thresh', thresh)\n",
    "            cv2.waitKey()\n",
    "\n",
    "        # Apply dilate to merge text into meaningful lines/paragraphs.\n",
    "        # Use larger kernel on X axis to merge characters into single line, cancelling out any spaces.\n",
    "        # But use smaller kernel on Y axis to separate between different blocks of text\n",
    "        kernel = cv2.getStructuringElement(cv2.MORPH_RECT, (30, 5))\n",
    "        dilate = cv2.dilate(thresh, kernel, iterations=5)\n",
    "        if debug:\n",
    "            cv2.imshow('Dilate', dilate)\n",
    "            cv2.waitKey()\n",
    "\n",
    "        # Find all contours\n",
    "        contours = GraphicsService().cvExtractContours(dilate)\n",
    "        if debug:\n",
    "            temp1 = cv2.drawContours(newImage.copy(), contours, -1, (255, 0, 0), 2)\n",
    "            cv2.imshow('All Contours', temp1)\n",
    "            cv2.waitKey()\n",
    "\n",
    "        # Find largest contour and surround in min area box\n",
    "        largestContour = contours[0]\n",
    "        minAreaRect = cv2.minAreaRect(largestContour)\n",
    "        if debug:\n",
    "            minAreaRectContour = numpy.int0(cv2.boxPoints(minAreaRect))\n",
    "            temp2 = cv2.drawContours(newImage.copy(), [minAreaRectContour], -1, (255, 0, 0), 2)\n",
    "            cv2.imshow('Largest Contour', temp2)\n",
    "            cv2.waitKey()\n",
    "\n",
    "        # Determine the angle. Convert it to the value that was originally used to obtain skewed image\n",
    "        angle = minAreaRect[-1]\n",
    "        if angle < -45:\n",
    "            angle = 90 + angle\n",
    "            return -1.0 * angle\n",
    "        elif angle > 45:\n",
    "            angle = 90 - angle\n",
    "            return angle\n",
    "        return -1.0 * angle\n",
    "\n",
    "        # As your page gets more complex you might want to look into more advanced angle calculations\n",
    "        #\n",
    "        # Maybe use the average angle of all contours.\n",
    "        # allContourAngles = [cv2.minAreaRect(c)[-1] for c in contours]\n",
    "        # angle = sum(allContourAngles) / len(allContourAngles)\n",
    "        #\n",
    "        # Maybe take the angle of the middle contour.\n",
    "        # middleContour = contours[len(contours) // 2]\n",
    "        # angle = cv2.minAreaRect(middleContour)[-1]\n",
    "        #\n",
    "        # Maybe average angle between largest, smallest and middle contours.\n",
    "        # largestContour = contours[0]\n",
    "        # middleContour = contours[len(contours) // 2]\n",
    "        # smallestContour = contours[-1]\n",
    "        # angle = sum([cv2.minAreaRect(largestContour)[-1], cv2.minAreaRect(middleContour)[-1], cv2.minAreaRect(smallestContour)[-1]]) / 3\n",
    "        #\n",
    "        # Experiment and find out what works best for your case.\n",
    "\n",
    "    # Deskew image\n",
    "    def deskew(self, cvImage) -> Tuple:\n",
    "        angle = self.getSkewAngle(cvImage)\n",
    "        return GraphicsService().rotateImage(cvImage, -1.0 * angle), "
   ]
  },
  {
   "cell_type": "code",
   "execution_count": null,
   "id": "df0675e6",
   "metadata": {},
   "outputs": [],
   "source": []
  }
 ],
 "metadata": {
  "kernelspec": {
   "display_name": "Python 3",
   "language": "python",
   "name": "python3"
  },
  "language_info": {
   "codemirror_mode": {
    "name": "ipython",
    "version": 3
   },
   "file_extension": ".py",
   "mimetype": "text/x-python",
   "name": "python",
   "nbconvert_exporter": "python",
   "pygments_lexer": "ipython3",
   "version": "3.8.8"
  }
 },
 "nbformat": 4,
 "nbformat_minor": 5
}
