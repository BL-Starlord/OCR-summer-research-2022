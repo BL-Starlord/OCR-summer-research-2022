{
  "nbformat": 4,
  "nbformat_minor": 0,
  "metadata": {
    "colab": {
      "name": "OCR_AE_V3.ipynb",
      "provenance": []
    },
    "kernelspec": {
      "name": "python3",
      "display_name": "Python 3"
    },
    "language_info": {
      "name": "python"
    }
  },
  "cells": [
    {
      "cell_type": "code",
      "execution_count": null,
      "metadata": {
        "id": "eP6tDws-vw4i"
      },
      "outputs": [],
      "source": [
        "import numpy as np\n",
        "import pandas as pd\n",
        "import matplotlib.pyplot as plt\n",
        "import zipfile\n",
        "import os\n",
        "import cv2\n",
        "from PIL import Image as ImagePIL\n",
        "import matplotlib as mpl\n",
        "\n",
        "from sklearn.model_selection import train_test_split\n",
        "import tensorflow as tf\n",
        "#import optuna\n",
        "\n",
        "\n",
        "from tensorflow.keras.models import Model\n",
        "from tensorflow.keras.layers import Conv2D, MaxPooling2D, UpSampling2D, Dropout, BatchNormalization, Input,Conv2DTranspose\n",
        "from tensorflow.keras.callbacks import EarlyStopping\n",
        "\n",
        "\n",
        "%matplotlib inline"
      ]
    },
    {
      "cell_type": "code",
      "source": [
        "from google.colab import drive\n",
        "drive.mount('/content/drive')\n"
      ],
      "metadata": {
        "colab": {
          "base_uri": "https://localhost:8080/"
        },
        "id": "lXDDVJNEv36S",
        "outputId": "1dcd00f1-1d60-41db-b762-e1954d593d39"
      },
      "execution_count": null,
      "outputs": [
        {
          "output_type": "stream",
          "name": "stdout",
          "text": [
            "Drive already mounted at /content/drive; to attempt to forcibly remount, call drive.mount(\"/content/drive\", force_remount=True).\n"
          ]
        }
      ]
    },
    {
      "cell_type": "code",
      "source": [
        "#Kaggle trainning set\n",
        "os.chdir(\"/content/drive/MyDrive/OCR_summer/OCR_Dataset\")\n",
        "\n",
        "train_dir = \"/content/drive/MyDrive/OCR_summer/train\"\n",
        "Clean_train_dir = \"/content/drive/MyDrive/OCR_summer/train_cleaned\"\n",
        "test_img_dir = \"/content/drive/MyDrive/OCR_summer/OCR_Dataset/train_demo\"\n",
        "outcome_dir = \"/content/drive/MyDrive/OCR_summer/OCR_Dataset/train_outcome\"\n",
        "\n",
        "train_img = sorted(os.listdir(train_dir))\n",
        "Clean_train_img = sorted(os.listdir(Clean_train_dir))\n",
        "test_img =sorted(os.listdir(test_img_dir))"
      ],
      "metadata": {
        "id": "WAXpHFwwv5o5"
      },
      "execution_count": null,
      "outputs": []
    },
    {
      "cell_type": "code",
      "source": [
        "#Test image size\n",
        "#img = cv2.imread(\"/content/drive/MyDrive/OCR_summer/OCR_Dataset/train_demo/IMG_0834.JPG\")  \n",
        "#size = img.shape\n",
        "#size"
      ],
      "metadata": {
        "id": "dKgGK4-18RnT"
      },
      "execution_count": null,
      "outputs": []
    },
    {
      "cell_type": "code",
      "source": [
        "\n",
        "IMG_WIDTH = 420*(2)\n",
        "IMG_HEIGHT = 540*(2)\n",
        "\n",
        "# prepare function\n",
        "def sizedown_image(path):\n",
        "    img = cv2.imread(path)\n",
        "    img = np.asarray(img, dtype=\"float32\")\n",
        "    img = cv2.resize(img, (IMG_WIDTH, IMG_HEIGHT))\n",
        "    img = cv2.cvtColor(img, cv2.COLOR_BGR2GRAY)\n",
        "    img = img/255.0\n",
        "    img = np.reshape(img, (IMG_HEIGHT, IMG_WIDTH, 1))\n",
        "    \n",
        "    return img"
      ],
      "metadata": {
        "id": "hQSngow9v-9y"
      },
      "execution_count": null,
      "outputs": []
    },
    {
      "cell_type": "code",
      "source": [
        "train = []\n",
        "train_cleaned = []\n",
        "test = []\n",
        "\n",
        "#i = 0\n",
        "\n",
        "for f in train_img:\n",
        "#    if i <= 75:\n",
        "#       i = i+1\n",
        "       train.append(sizedown_image( train_dir + '/'+ f))\n",
        "\n",
        "#i = 0\n",
        "\n",
        "for f in Clean_train_img:\n",
        "#    if i <= 75:\n",
        "#      i=i+1\n",
        "      train_cleaned.append(sizedown_image(Clean_train_dir+'/' + f))\n",
        "\n",
        "#i = 0\n",
        "\n",
        "for f in test_img:\n",
        "#    if i <= 75: \n",
        "#      i=i+1\n",
        "      test.append(sizedown_image(test_img_dir + '/' + f))\n",
        "\n",
        "X_train_temp = np.asarray(train)\n",
        "Y_train_temp = np.asarray(train_cleaned)\n",
        "test = np.asarray(test)"
      ],
      "metadata": {
        "id": "IBcHmguwwDcy"
      },
      "execution_count": null,
      "outputs": []
    },
    {
      "cell_type": "code",
      "source": [
        "X_train, X_val, Y_train, Y_val = train_test_split(X_train_temp, Y_train_temp, test_size=0.1)"
      ],
      "metadata": {
        "id": "ZOvR5nE5wE8Z"
      },
      "execution_count": null,
      "outputs": []
    },
    {
      "cell_type": "code",
      "source": [
        "#My encoder 1\n",
        "\n",
        "def model():\n",
        "    input_layer = Input(shape=(IMG_HEIGHT, IMG_WIDTH, 1))\n",
        "    \n",
        "    # encoding\n",
        "    x = Conv2D(32, (3, 3), activation='sigmoid', padding='same')(input_layer)\n",
        "    x = MaxPooling2D((2,2),padding = \"same\")(x)\n",
        "    x = Conv2D(16, (3, 3), activation='sigmoid', padding='same')(x)\n",
        "    x = MaxPooling2D((2, 2), padding='same')(x)\n",
        "\n",
        "    # decoding\n",
        "    x = Conv2DTranspose(16, (3, 3), strides = 2,activation='sigmoid', padding='same')(x)\n",
        "    x = Conv2DTranspose(32, (3, 3), strides = 2,activation='sigmoid', padding='same')(x)\n",
        "    output_layer = Conv2D(1, (3, 3), activation='sigmoid', padding='same')(x)\n",
        "    model = Model(inputs=[input_layer], outputs=[output_layer])\n",
        "    model.compile(optimizer='adam' , loss='mean_squared_error', metrics=['mae'])\n",
        "    return model\n",
        "\n",
        "\n",
        "model = model()\n",
        "model.summary()"
      ],
      "metadata": {
        "id": "4FF5Yc10wIRS"
      },
      "execution_count": null,
      "outputs": []
    },
    {
      "cell_type": "code",
      "source": [
        "callback = EarlyStopping(monitor='loss', patience=10)\n",
        "history = model.fit(X_train, Y_train, validation_data = (X_val, Y_val), epochs=60, batch_size=5, verbose=1, callbacks=[callback])"
      ],
      "metadata": {
        "colab": {
          "base_uri": "https://localhost:8080/"
        },
        "id": "MuZDGFGGwJyq",
        "outputId": "f6eed970-dd1e-434a-c206-6714346a712f"
      },
      "execution_count": null,
      "outputs": [
        {
          "output_type": "stream",
          "name": "stdout",
          "text": [
            "Epoch 1/60\n",
            "26/26 [==============================] - 288s 11s/step - loss: 0.0746 - mae: 0.2132 - val_loss: 0.0540 - val_mae: 0.1405\n",
            "Epoch 2/60\n",
            "26/26 [==============================] - 284s 11s/step - loss: 0.0573 - mae: 0.1436 - val_loss: 0.0535 - val_mae: 0.1445\n",
            "Epoch 3/60\n",
            "26/26 [==============================] - 285s 11s/step - loss: 0.0561 - mae: 0.1559 - val_loss: 0.0528 - val_mae: 0.1604\n",
            "Epoch 4/60\n",
            "26/26 [==============================] - 285s 11s/step - loss: 0.0557 - mae: 0.1665 - val_loss: 0.0528 - val_mae: 0.1639\n",
            "Epoch 5/60\n",
            "26/26 [==============================] - 285s 11s/step - loss: 0.0557 - mae: 0.1662 - val_loss: 0.0528 - val_mae: 0.1619\n",
            "Epoch 6/60\n",
            "26/26 [==============================] - 284s 11s/step - loss: 0.0557 - mae: 0.1652 - val_loss: 0.0528 - val_mae: 0.1618\n",
            "Epoch 7/60\n",
            "26/26 [==============================] - 284s 11s/step - loss: 0.0557 - mae: 0.1659 - val_loss: 0.0528 - val_mae: 0.1623\n",
            "Epoch 8/60\n",
            "26/26 [==============================] - 283s 11s/step - loss: 0.0557 - mae: 0.1656 - val_loss: 0.0528 - val_mae: 0.1629\n",
            "Epoch 9/60\n",
            "26/26 [==============================] - 282s 11s/step - loss: 0.0557 - mae: 0.1657 - val_loss: 0.0527 - val_mae: 0.1618\n",
            "Epoch 10/60\n",
            "26/26 [==============================] - 281s 11s/step - loss: 0.0556 - mae: 0.1653 - val_loss: 0.0526 - val_mae: 0.1622\n",
            "Epoch 11/60\n",
            "26/26 [==============================] - 282s 11s/step - loss: 0.0554 - mae: 0.1652 - val_loss: 0.0523 - val_mae: 0.1615\n",
            "Epoch 12/60\n",
            "26/26 [==============================] - 279s 11s/step - loss: 0.0549 - mae: 0.1642 - val_loss: 0.0515 - val_mae: 0.1606\n",
            "Epoch 13/60\n",
            "26/26 [==============================] - 278s 11s/step - loss: 0.0533 - mae: 0.1625 - val_loss: 0.0490 - val_mae: 0.1576\n",
            "Epoch 14/60\n",
            "26/26 [==============================] - 277s 11s/step - loss: 0.0491 - mae: 0.1591 - val_loss: 0.0430 - val_mae: 0.1516\n",
            "Epoch 15/60\n",
            "26/26 [==============================] - 278s 11s/step - loss: 0.0407 - mae: 0.1495 - val_loss: 0.0331 - val_mae: 0.1381\n",
            "Epoch 16/60\n",
            "26/26 [==============================] - 280s 11s/step - loss: 0.0301 - mae: 0.1297 - val_loss: 0.0237 - val_mae: 0.1137\n",
            "Epoch 17/60\n",
            "26/26 [==============================] - 278s 11s/step - loss: 0.0224 - mae: 0.1074 - val_loss: 0.0185 - val_mae: 0.0934\n",
            "Epoch 18/60\n",
            "26/26 [==============================] - 278s 11s/step - loss: 0.0187 - mae: 0.0905 - val_loss: 0.0164 - val_mae: 0.0829\n",
            "Epoch 19/60\n",
            "26/26 [==============================] - 280s 11s/step - loss: 0.0169 - mae: 0.0822 - val_loss: 0.0153 - val_mae: 0.0764\n",
            "Epoch 20/60\n",
            "26/26 [==============================] - 278s 11s/step - loss: 0.0161 - mae: 0.0759 - val_loss: 0.0148 - val_mae: 0.0701\n",
            "Epoch 21/60\n",
            "26/26 [==============================] - 280s 11s/step - loss: 0.0152 - mae: 0.0715 - val_loss: 0.0141 - val_mae: 0.0673\n",
            "Epoch 22/60\n",
            "26/26 [==============================] - 279s 11s/step - loss: 0.0146 - mae: 0.0686 - val_loss: 0.0135 - val_mae: 0.0648\n",
            "Epoch 23/60\n",
            "26/26 [==============================] - 278s 11s/step - loss: 0.0140 - mae: 0.0660 - val_loss: 0.0133 - val_mae: 0.0621\n",
            "Epoch 24/60\n",
            "26/26 [==============================] - 278s 11s/step - loss: 0.0135 - mae: 0.0636 - val_loss: 0.0128 - val_mae: 0.0601\n",
            "Epoch 25/60\n",
            "26/26 [==============================] - 279s 11s/step - loss: 0.0129 - mae: 0.0621 - val_loss: 0.0120 - val_mae: 0.0598\n",
            "Epoch 26/60\n",
            "26/26 [==============================] - 278s 11s/step - loss: 0.0124 - mae: 0.0602 - val_loss: 0.0114 - val_mae: 0.0576\n",
            "Epoch 27/60\n",
            "26/26 [==============================] - 277s 11s/step - loss: 0.0120 - mae: 0.0594 - val_loss: 0.0114 - val_mae: 0.0554\n",
            "Epoch 28/60\n",
            "26/26 [==============================] - 278s 11s/step - loss: 0.0112 - mae: 0.0565 - val_loss: 0.0104 - val_mae: 0.0543\n",
            "Epoch 29/60\n",
            "26/26 [==============================] - 279s 11s/step - loss: 0.0106 - mae: 0.0560 - val_loss: 0.0097 - val_mae: 0.0534\n",
            "Epoch 30/60\n",
            "26/26 [==============================] - 277s 11s/step - loss: 0.0099 - mae: 0.0541 - val_loss: 0.0098 - val_mae: 0.0514\n",
            "Epoch 31/60\n",
            "26/26 [==============================] - 277s 11s/step - loss: 0.0096 - mae: 0.0529 - val_loss: 0.0088 - val_mae: 0.0501\n",
            "Epoch 32/60\n",
            "26/26 [==============================] - 277s 11s/step - loss: 0.0090 - mae: 0.0512 - val_loss: 0.0084 - val_mae: 0.0485\n",
            "Epoch 33/60\n",
            "26/26 [==============================] - 278s 11s/step - loss: 0.0087 - mae: 0.0498 - val_loss: 0.0086 - val_mae: 0.0471\n",
            "Epoch 34/60\n",
            "26/26 [==============================] - 276s 11s/step - loss: 0.0083 - mae: 0.0485 - val_loss: 0.0078 - val_mae: 0.0457\n",
            "Epoch 35/60\n",
            "26/26 [==============================] - 276s 11s/step - loss: 0.0079 - mae: 0.0469 - val_loss: 0.0075 - val_mae: 0.0443\n",
            "Epoch 36/60\n",
            "26/26 [==============================] - 274s 11s/step - loss: 0.0077 - mae: 0.0461 - val_loss: 0.0074 - val_mae: 0.0435\n",
            "Epoch 37/60\n",
            "26/26 [==============================] - 275s 11s/step - loss: 0.0075 - mae: 0.0450 - val_loss: 0.0069 - val_mae: 0.0421\n",
            "Epoch 38/60\n",
            "26/26 [==============================] - 274s 11s/step - loss: 0.0071 - mae: 0.0437 - val_loss: 0.0066 - val_mae: 0.0422\n",
            "Epoch 39/60\n",
            "26/26 [==============================] - 274s 11s/step - loss: 0.0068 - mae: 0.0428 - val_loss: 0.0065 - val_mae: 0.0403\n",
            "Epoch 40/60\n",
            "26/26 [==============================] - 274s 11s/step - loss: 0.0066 - mae: 0.0417 - val_loss: 0.0062 - val_mae: 0.0396\n",
            "Epoch 41/60\n",
            "26/26 [==============================] - 274s 11s/step - loss: 0.0064 - mae: 0.0412 - val_loss: 0.0059 - val_mae: 0.0394\n",
            "Epoch 42/60\n",
            "26/26 [==============================] - 275s 11s/step - loss: 0.0062 - mae: 0.0403 - val_loss: 0.0058 - val_mae: 0.0391\n",
            "Epoch 43/60\n",
            "26/26 [==============================] - 274s 11s/step - loss: 0.0060 - mae: 0.0396 - val_loss: 0.0056 - val_mae: 0.0375\n",
            "Epoch 44/60\n",
            "26/26 [==============================] - 274s 11s/step - loss: 0.0058 - mae: 0.0388 - val_loss: 0.0055 - val_mae: 0.0369\n",
            "Epoch 45/60\n",
            "26/26 [==============================] - 273s 10s/step - loss: 0.0057 - mae: 0.0383 - val_loss: 0.0053 - val_mae: 0.0364\n",
            "Epoch 46/60\n",
            "26/26 [==============================] - 275s 11s/step - loss: 0.0056 - mae: 0.0375 - val_loss: 0.0052 - val_mae: 0.0361\n",
            "Epoch 47/60\n",
            "26/26 [==============================] - 276s 11s/step - loss: 0.0054 - mae: 0.0374 - val_loss: 0.0053 - val_mae: 0.0356\n",
            "Epoch 48/60\n",
            "26/26 [==============================] - 273s 11s/step - loss: 0.0053 - mae: 0.0367 - val_loss: 0.0051 - val_mae: 0.0350\n",
            "Epoch 49/60\n",
            "26/26 [==============================] - 273s 11s/step - loss: 0.0052 - mae: 0.0362 - val_loss: 0.0049 - val_mae: 0.0350\n",
            "Epoch 50/60\n",
            "26/26 [==============================] - 274s 10s/step - loss: 0.0051 - mae: 0.0361 - val_loss: 0.0049 - val_mae: 0.0343\n",
            "Epoch 51/60\n",
            "26/26 [==============================] - 273s 11s/step - loss: 0.0050 - mae: 0.0354 - val_loss: 0.0047 - val_mae: 0.0343\n",
            "Epoch 52/60\n",
            "26/26 [==============================] - 273s 10s/step - loss: 0.0050 - mae: 0.0353 - val_loss: 0.0048 - val_mae: 0.0338\n",
            "Epoch 53/60\n",
            "26/26 [==============================] - 275s 11s/step - loss: 0.0049 - mae: 0.0353 - val_loss: 0.0047 - val_mae: 0.0333\n",
            "Epoch 54/60\n",
            "26/26 [==============================] - 274s 11s/step - loss: 0.0048 - mae: 0.0345 - val_loss: 0.0046 - val_mae: 0.0331\n",
            "Epoch 55/60\n",
            "26/26 [==============================] - 273s 11s/step - loss: 0.0048 - mae: 0.0344 - val_loss: 0.0046 - val_mae: 0.0338\n",
            "Epoch 56/60\n",
            "26/26 [==============================] - 273s 11s/step - loss: 0.0047 - mae: 0.0343 - val_loss: 0.0044 - val_mae: 0.0329\n",
            "Epoch 57/60\n",
            "26/26 [==============================] - 273s 11s/step - loss: 0.0046 - mae: 0.0339 - val_loss: 0.0046 - val_mae: 0.0325\n",
            "Epoch 58/60\n",
            "26/26 [==============================] - 273s 11s/step - loss: 0.0046 - mae: 0.0339 - val_loss: 0.0047 - val_mae: 0.0327\n",
            "Epoch 59/60\n",
            "26/26 [==============================] - 273s 11s/step - loss: 0.0046 - mae: 0.0336 - val_loss: 0.0046 - val_mae: 0.0323\n",
            "Epoch 60/60\n",
            "26/26 [==============================] - 273s 11s/step - loss: 0.0047 - mae: 0.0337 - val_loss: 0.0042 - val_mae: 0.0320\n"
          ]
        }
      ]
    },
    {
      "cell_type": "code",
      "source": [
        "#Check model outcome\n",
        "epoch_loss = history.history['loss']\n",
        "epoch_val_loss = history.history['val_loss']\n",
        "epoch_mae = history.history['mae']\n",
        "epoch_val_mae = history.history['val_mae']\n",
        "\n",
        "plt.figure(figsize=(20,6))\n",
        "plt.subplot(1,2,1)\n",
        "plt.plot(range(0,len(epoch_loss)), epoch_loss, 'b-', linewidth=2, label='Train Loss')\n",
        "plt.plot(range(0,len(epoch_val_loss)), epoch_val_loss, 'r-', linewidth=2, label='Val Loss')\n",
        "plt.title('Evolution of loss on train & validation datasets over epochs')\n",
        "plt.legend(loc='best')\n",
        "\n",
        "plt.subplot(1,2,2)\n",
        "plt.plot(range(0,len(epoch_mae)), epoch_mae, 'b-', linewidth=2, label='Train MAE')\n",
        "plt.plot(range(0,len(epoch_val_mae)), epoch_val_mae, 'r-', linewidth=2,label='Val MAE')\n",
        "plt.title('Evolution of MAE on train & validation datasets over epochs')\n",
        "plt.legend(loc='best')\n",
        "\n",
        "plt.show()"
      ],
      "metadata": {
        "colab": {
          "base_uri": "https://localhost:8080/",
          "height": 390
        },
        "id": "h42Qb2rwwNNq",
        "outputId": "7cf08e3f-7da5-40e1-c8ba-18229111a662"
      },
      "execution_count": null,
      "outputs": [
        {
          "output_type": "display_data",
          "data": {
            "text/plain": [
              "<Figure size 1440x432 with 2 Axes>"
            ],
            "image/png": "[encoded data removed]"
          },
          "metadata": {
            "needs_background": "light"
          }
        }
      ]
    },
    {
      "cell_type": "code",
      "source": [
        "#Save the model\n",
        "os.chdir('/content/drive/MyDrive/OCR_summer/OCR_Dataset') \n",
        "model.save_weights('./Goodmodel1/epochs60')"
      ],
      "metadata": {
        "id": "017_3BqPwO0C"
      },
      "execution_count": null,
      "outputs": []
    },
    {
      "cell_type": "code",
      "source": [
        "testoutcome = model.predict( X_train_temp ,verbose = 1, batch_size = 1)"
      ],
      "metadata": {
        "colab": {
          "base_uri": "https://localhost:8080/"
        },
        "id": "WiR0BLhH6T3G",
        "outputId": "32876d7a-5487-4acf-d7cb-e1c7c4d9d823"
      },
      "execution_count": null,
      "outputs": [
        {
          "output_type": "stream",
          "name": "stdout",
          "text": [
            "144/144 [==============================] - 75s 513ms/step\n"
          ]
        }
      ]
    },
    {
      "cell_type": "code",
      "source": [
        "i = 0 \n",
        "for image in testoutcome:\n",
        "  im_path = outcome_dir +'/'+ test_img[i]\n",
        "  mpl.image.imsave(im_path, image[:,:,0], cmap='gray')\n",
        "  i += 1"
      ],
      "metadata": {
        "colab": {
          "base_uri": "https://localhost:8080/",
          "height": 235
        },
        "id": "B51hU8T994gL",
        "outputId": "f1546252-2f86-4843-f552-f6e742c09cba"
      },
      "execution_count": null,
      "outputs": [
        {
          "output_type": "error",
          "ename": "IndexError",
          "evalue": "ignored",
          "traceback": [
            "\u001b[0;31m---------------------------------------------------------------------------\u001b[0m",
            "\u001b[0;31mIndexError\u001b[0m                                Traceback (most recent call last)",
            "\u001b[0;32m<ipython-input-18-9037fdec7ae3>\u001b[0m in \u001b[0;36m<module>\u001b[0;34m()\u001b[0m\n\u001b[1;32m      1\u001b[0m \u001b[0mi\u001b[0m \u001b[0;34m=\u001b[0m \u001b[0;36m0\u001b[0m\u001b[0;34m\u001b[0m\u001b[0;34m\u001b[0m\u001b[0m\n\u001b[1;32m      2\u001b[0m \u001b[0;32mfor\u001b[0m \u001b[0mimage\u001b[0m \u001b[0;32min\u001b[0m \u001b[0mtestoutcome\u001b[0m\u001b[0;34m:\u001b[0m\u001b[0;34m\u001b[0m\u001b[0;34m\u001b[0m\u001b[0m\n\u001b[0;32m----> 3\u001b[0;31m   \u001b[0mim_path\u001b[0m \u001b[0;34m=\u001b[0m \u001b[0moutcome_dir\u001b[0m \u001b[0;34m+\u001b[0m\u001b[0;34m'/'\u001b[0m\u001b[0;34m+\u001b[0m \u001b[0mtest_img\u001b[0m\u001b[0;34m[\u001b[0m\u001b[0mi\u001b[0m\u001b[0;34m]\u001b[0m\u001b[0;34m\u001b[0m\u001b[0;34m\u001b[0m\u001b[0m\n\u001b[0m\u001b[1;32m      4\u001b[0m   \u001b[0mmpl\u001b[0m\u001b[0;34m.\u001b[0m\u001b[0mimage\u001b[0m\u001b[0;34m.\u001b[0m\u001b[0mimsave\u001b[0m\u001b[0;34m(\u001b[0m\u001b[0mim_path\u001b[0m\u001b[0;34m,\u001b[0m \u001b[0mimage\u001b[0m\u001b[0;34m[\u001b[0m\u001b[0;34m:\u001b[0m\u001b[0;34m,\u001b[0m\u001b[0;34m:\u001b[0m\u001b[0;34m,\u001b[0m\u001b[0;36m0\u001b[0m\u001b[0;34m]\u001b[0m\u001b[0;34m,\u001b[0m \u001b[0mcmap\u001b[0m\u001b[0;34m=\u001b[0m\u001b[0;34m'gray'\u001b[0m\u001b[0;34m)\u001b[0m\u001b[0;34m\u001b[0m\u001b[0;34m\u001b[0m\u001b[0m\n\u001b[1;32m      5\u001b[0m   \u001b[0mi\u001b[0m \u001b[0;34m+=\u001b[0m \u001b[0;36m1\u001b[0m\u001b[0;34m\u001b[0m\u001b[0;34m\u001b[0m\u001b[0m\n",
            "\u001b[0;31mIndexError\u001b[0m: list index out of range"
          ]
        }
      ]
    },
    {
      "cell_type": "code",
      "source": [
        ""
      ],
      "metadata": {
        "id": "NKXhGoajC4vI"
      },
      "execution_count": null,
      "outputs": []
    },
    {
      "cell_type": "code",
      "source": [
        ""
      ],
      "metadata": {
        "id": "M5OMdSVyC4xg"
      },
      "execution_count": null,
      "outputs": []
    },
    {
      "cell_type": "code",
      "source": [
        ""
      ],
      "metadata": {
        "id": "UXpEnGJgC40S"
      },
      "execution_count": null,
      "outputs": []
    },
    {
      "cell_type": "code",
      "source": [
        ""
      ],
      "metadata": {
        "id": "Ael_occpC43P"
      },
      "execution_count": null,
      "outputs": []
    },
    {
      "cell_type": "code",
      "source": [
        ""
      ],
      "metadata": {
        "id": "699rLpD8C45w"
      },
      "execution_count": null,
      "outputs": []
    },
    {
      "cell_type": "code",
      "source": [
        ""
      ],
      "metadata": {
        "id": "VHP9iz-bC48f"
      },
      "execution_count": null,
      "outputs": []
    },
    {
      "cell_type": "code",
      "source": [
        "#My encoder 2\n",
        "\n",
        "def model():\n",
        "    input_layer = Input(shape=(IMG_HEIGHT, IMG_WIDTH, 1))\n",
        "    \n",
        "    # encoding\n",
        "    x = Conv2D(32, (3, 3), activation='sigmoid', padding='same')(input_layer)\n",
        "    x = MaxPooling2D((2,2),padding = \"same\")(x)\n",
        "    x = Conv2D(16, (3, 3), activation='sigmoid', padding='same')(x)\n",
        "    x = MaxPooling2D((2,2),padding = \"same\")(x)\n",
        "    x = Conv2D(8, (3, 3), activation='sigmoid', padding='same')(x)\n",
        "    x = MaxPooling2D((2, 2), padding='same')(x)\n",
        "\n",
        "    # decoding\n",
        "    x = Conv2DTranspose(8, (3, 3), strides = 2,activation='sigmoid', padding='same')(x)\n",
        "    x = Conv2DTranspose(16, (3, 3), strides = 2,activation='sigmoid', padding='same')(x)\n",
        "    x = Conv2DTranspose(32, (3, 3), strides = 2,activation='sigmoid', padding='same')(x)\n",
        "    output_layer = Conv2D(1, (3, 3), activation='sigmoid', padding='same')(x)\n",
        "    model = Model(inputs=[input_layer], outputs=[output_layer])\n",
        "    model.compile(optimizer='adam' , loss='mean_squared_error', metrics=['mae'])\n",
        "    return model\n",
        "\n",
        "\n",
        "model = model()\n",
        "model.summary()"
      ],
      "metadata": {
        "id": "Zyn8z9pA9-sE",
        "colab": {
          "base_uri": "https://localhost:8080/"
        },
        "outputId": "18ba21a5-484e-402b-d821-cb94214c15c5"
      },
      "execution_count": null,
      "outputs": [
        {
          "output_type": "stream",
          "name": "stdout",
          "text": [
            "Model: \"model_2\"\n",
            "_________________________________________________________________\n",
            " Layer (type)                Output Shape              Param #   \n",
            "=================================================================\n",
            " input_3 (InputLayer)        [(None, 1080, 840, 1)]    0         \n",
            "                                                                 \n",
            " conv2d_9 (Conv2D)           (None, 1080, 840, 32)     320       \n",
            "                                                                 \n",
            " max_pooling2d_7 (MaxPooling  (None, 540, 420, 32)     0         \n",
            " 2D)                                                             \n",
            "                                                                 \n",
            " conv2d_10 (Conv2D)          (None, 540, 420, 16)      4624      \n",
            "                                                                 \n",
            " max_pooling2d_8 (MaxPooling  (None, 270, 210, 16)     0         \n",
            " 2D)                                                             \n",
            "                                                                 \n",
            " conv2d_11 (Conv2D)          (None, 270, 210, 8)       1160      \n",
            "                                                                 \n",
            " max_pooling2d_9 (MaxPooling  (None, 135, 105, 8)      0         \n",
            " 2D)                                                             \n",
            "                                                                 \n",
            " conv2d_transpose_7 (Conv2DT  (None, 270, 210, 8)      584       \n",
            " ranspose)                                                       \n",
            "                                                                 \n",
            " conv2d_transpose_8 (Conv2DT  (None, 540, 420, 16)     1168      \n",
            " ranspose)                                                       \n",
            "                                                                 \n",
            " conv2d_transpose_9 (Conv2DT  (None, 1080, 840, 32)    4640      \n",
            " ranspose)                                                       \n",
            "                                                                 \n",
            " conv2d_12 (Conv2D)          (None, 1080, 840, 1)      289       \n",
            "                                                                 \n",
            "=================================================================\n",
            "Total params: 12,785\n",
            "Trainable params: 12,785\n",
            "Non-trainable params: 0\n",
            "_________________________________________________________________\n"
          ]
        }
      ]
    },
    {
      "cell_type": "code",
      "source": [
        "callback = EarlyStopping(monitor='loss', patience=10)\n",
        "history = model.fit(X_train, Y_train, validation_data = (X_val, Y_val), epochs=70, batch_size=5, verbose=1, callbacks=[callback])"
      ],
      "metadata": {
        "colab": {
          "base_uri": "https://localhost:8080/"
        },
        "id": "WS02yY3-C__E",
        "outputId": "f7531970-00ba-4050-d317-29fa4ea77879"
      },
      "execution_count": null,
      "outputs": [
        {
          "output_type": "stream",
          "name": "stdout",
          "text": [
            "Epoch 1/70\n",
            "26/26 [==============================] - 322s 12s/step - loss: 0.0638 - mae: 0.1802 - val_loss: 0.0593 - val_mae: 0.1407\n",
            "Epoch 2/70\n",
            "26/26 [==============================] - 310s 12s/step - loss: 0.0577 - mae: 0.1513 - val_loss: 0.0573 - val_mae: 0.1675\n",
            "Epoch 3/70\n",
            "26/26 [==============================] - 316s 12s/step - loss: 0.0568 - mae: 0.1696 - val_loss: 0.0573 - val_mae: 0.1657\n",
            "Epoch 4/70\n",
            "26/26 [==============================] - 311s 12s/step - loss: 0.0568 - mae: 0.1658 - val_loss: 0.0573 - val_mae: 0.1665\n",
            "Epoch 5/70\n",
            "26/26 [==============================] - 317s 12s/step - loss: 0.0568 - mae: 0.1668 - val_loss: 0.0573 - val_mae: 0.1666\n",
            "Epoch 6/70\n",
            "26/26 [==============================] - 316s 12s/step - loss: 0.0568 - mae: 0.1668 - val_loss: 0.0573 - val_mae: 0.1657\n",
            "Epoch 7/70\n",
            "26/26 [==============================] - 318s 12s/step - loss: 0.0568 - mae: 0.1661 - val_loss: 0.0573 - val_mae: 0.1675\n",
            "Epoch 8/70\n",
            "26/26 [==============================] - 313s 12s/step - loss: 0.0568 - mae: 0.1666 - val_loss: 0.0573 - val_mae: 0.1661\n",
            "Epoch 9/70\n",
            "26/26 [==============================] - 318s 12s/step - loss: 0.0568 - mae: 0.1665 - val_loss: 0.0573 - val_mae: 0.1662\n",
            "Epoch 10/70\n",
            "26/26 [==============================] - 313s 12s/step - loss: 0.0568 - mae: 0.1667 - val_loss: 0.0573 - val_mae: 0.1646\n",
            "Epoch 11/70\n",
            "26/26 [==============================] - 320s 12s/step - loss: 0.0568 - mae: 0.1671 - val_loss: 0.0573 - val_mae: 0.1653\n",
            "Epoch 12/70\n",
            "26/26 [==============================] - 313s 12s/step - loss: 0.0568 - mae: 0.1656 - val_loss: 0.0573 - val_mae: 0.1666\n",
            "Epoch 13/70\n",
            "26/26 [==============================] - 319s 12s/step - loss: 0.0568 - mae: 0.1668 - val_loss: 0.0573 - val_mae: 0.1651\n",
            "Epoch 14/70\n",
            "26/26 [==============================] - 314s 12s/step - loss: 0.0568 - mae: 0.1664 - val_loss: 0.0573 - val_mae: 0.1661\n",
            "Epoch 15/70\n",
            "26/26 [==============================] - 321s 12s/step - loss: 0.0568 - mae: 0.1661 - val_loss: 0.0573 - val_mae: 0.1656\n",
            "Epoch 16/70\n",
            "26/26 [==============================] - 316s 12s/step - loss: 0.0568 - mae: 0.1666 - val_loss: 0.0573 - val_mae: 0.1672\n",
            "Epoch 17/70\n",
            "26/26 [==============================] - 321s 12s/step - loss: 0.0568 - mae: 0.1657 - val_loss: 0.0573 - val_mae: 0.1717\n",
            "Epoch 18/70\n",
            "26/26 [==============================] - 314s 12s/step - loss: 0.0568 - mae: 0.1671 - val_loss: 0.0573 - val_mae: 0.1664\n",
            "Epoch 19/70\n",
            "26/26 [==============================] - 319s 12s/step - loss: 0.0568 - mae: 0.1657 - val_loss: 0.0573 - val_mae: 0.1684\n",
            "Epoch 20/70\n",
            "26/26 [==============================] - 314s 12s/step - loss: 0.0568 - mae: 0.1668 - val_loss: 0.0572 - val_mae: 0.1664\n",
            "Epoch 21/70\n",
            "26/26 [==============================] - 320s 12s/step - loss: 0.0568 - mae: 0.1671 - val_loss: 0.0573 - val_mae: 0.1648\n",
            "Epoch 22/70\n",
            "26/26 [==============================] - 318s 12s/step - loss: 0.0568 - mae: 0.1663 - val_loss: 0.0572 - val_mae: 0.1660\n",
            "Epoch 23/70\n",
            "26/26 [==============================] - 320s 12s/step - loss: 0.0568 - mae: 0.1670 - val_loss: 0.0572 - val_mae: 0.1676\n",
            "Epoch 24/70\n",
            "26/26 [==============================] - 315s 12s/step - loss: 0.0568 - mae: 0.1661 - val_loss: 0.0572 - val_mae: 0.1669\n",
            "Epoch 25/70\n",
            "26/26 [==============================] - 324s 12s/step - loss: 0.0568 - mae: 0.1661 - val_loss: 0.0572 - val_mae: 0.1679\n",
            "Epoch 26/70\n",
            "26/26 [==============================] - 320s 12s/step - loss: 0.0568 - mae: 0.1662 - val_loss: 0.0573 - val_mae: 0.1691\n",
            "Epoch 27/70\n",
            "26/26 [==============================] - 316s 12s/step - loss: 0.0568 - mae: 0.1674 - val_loss: 0.0572 - val_mae: 0.1659\n",
            "Epoch 28/70\n",
            "26/26 [==============================] - 323s 12s/step - loss: 0.0568 - mae: 0.1664 - val_loss: 0.0572 - val_mae: 0.1659\n",
            "Epoch 29/70\n",
            "26/26 [==============================] - 314s 12s/step - loss: 0.0568 - mae: 0.1662 - val_loss: 0.0572 - val_mae: 0.1667\n",
            "Epoch 30/70\n",
            "26/26 [==============================] - 319s 12s/step - loss: 0.0568 - mae: 0.1666 - val_loss: 0.0572 - val_mae: 0.1677\n",
            "Epoch 31/70\n",
            "26/26 [==============================] - 314s 12s/step - loss: 0.0568 - mae: 0.1664 - val_loss: 0.0572 - val_mae: 0.1644\n",
            "Epoch 32/70\n",
            "26/26 [==============================] - 319s 12s/step - loss: 0.0568 - mae: 0.1662 - val_loss: 0.0572 - val_mae: 0.1656\n",
            "Epoch 33/70\n",
            "26/26 [==============================] - 319s 12s/step - loss: 0.0567 - mae: 0.1670 - val_loss: 0.0572 - val_mae: 0.1661\n",
            "Epoch 34/70\n",
            "26/26 [==============================] - 319s 12s/step - loss: 0.0567 - mae: 0.1660 - val_loss: 0.0572 - val_mae: 0.1674\n",
            "Epoch 35/70\n",
            "26/26 [==============================] - 313s 12s/step - loss: 0.0567 - mae: 0.1666 - val_loss: 0.0572 - val_mae: 0.1633\n",
            "Epoch 36/70\n",
            "26/26 [==============================] - 315s 12s/step - loss: 0.0567 - mae: 0.1657 - val_loss: 0.0570 - val_mae: 0.1674\n",
            "Epoch 37/70\n",
            "26/26 [==============================] - 312s 12s/step - loss: 0.0558 - mae: 0.1655 - val_loss: 0.0549 - val_mae: 0.1667\n",
            "Epoch 38/70\n",
            "26/26 [==============================] - 314s 12s/step - loss: 0.0502 - mae: 0.1615 - val_loss: 0.0436 - val_mae: 0.1496\n",
            "Epoch 39/70\n",
            "26/26 [==============================] - 309s 12s/step - loss: 0.0381 - mae: 0.1326 - val_loss: 0.0350 - val_mae: 0.1165\n",
            "Epoch 40/70\n",
            "26/26 [==============================] - 316s 12s/step - loss: 0.0343 - mae: 0.1100 - val_loss: 0.0335 - val_mae: 0.1058\n",
            "Epoch 41/70\n",
            "26/26 [==============================] - 314s 12s/step - loss: 0.0335 - mae: 0.1063 - val_loss: 0.0328 - val_mae: 0.1030\n",
            "Epoch 42/70\n",
            "26/26 [==============================] - 314s 12s/step - loss: 0.0329 - mae: 0.1031 - val_loss: 0.0325 - val_mae: 0.1030\n",
            "Epoch 43/70\n",
            "26/26 [==============================] - 307s 12s/step - loss: 0.0323 - mae: 0.1014 - val_loss: 0.0321 - val_mae: 0.0983\n",
            "Epoch 44/70\n",
            "26/26 [==============================] - 311s 12s/step - loss: 0.0320 - mae: 0.0994 - val_loss: 0.0316 - val_mae: 0.0985\n",
            "Epoch 45/70\n",
            "26/26 [==============================] - 306s 12s/step - loss: 0.0317 - mae: 0.0986 - val_loss: 0.0314 - val_mae: 0.0990\n",
            "Epoch 46/70\n",
            "26/26 [==============================] - 314s 12s/step - loss: 0.0315 - mae: 0.0980 - val_loss: 0.0311 - val_mae: 0.0961\n",
            "Epoch 47/70\n",
            "26/26 [==============================] - 306s 12s/step - loss: 0.0314 - mae: 0.0966 - val_loss: 0.0309 - val_mae: 0.0953\n",
            "Epoch 48/70\n",
            "26/26 [==============================] - 313s 12s/step - loss: 0.0311 - mae: 0.0965 - val_loss: 0.0307 - val_mae: 0.0948\n",
            "Epoch 49/70\n",
            " 2/26 [=>............................] - ETA: 4:38 - loss: 0.0322 - mae: 0.0980"
          ]
        }
      ]
    },
    {
      "cell_type": "code",
      "source": [
        ""
      ],
      "metadata": {
        "id": "5SSpH7OxDG4K"
      },
      "execution_count": null,
      "outputs": []
    }
  ]
}